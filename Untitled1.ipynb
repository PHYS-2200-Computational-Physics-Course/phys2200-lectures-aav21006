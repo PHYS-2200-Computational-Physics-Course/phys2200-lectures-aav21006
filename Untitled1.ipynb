{
 "cells": [
  {
   "cell_type": "code",
   "execution_count": 1,
   "id": "1b609796-9d3e-4ee1-92c0-284bc0d6a3b0",
   "metadata": {},
   "outputs": [
    {
     "ename": "LoadError",
     "evalue": "UndefVarError: `git` not defined in `Main`\nSuggestion: check for spelling errors or missing imports.",
     "output_type": "error",
     "traceback": [
      "UndefVarError: `git` not defined in `Main`\nSuggestion: check for spelling errors or missing imports.",
      ""
     ]
    }
   ],
   "source": [
    "git config pull.rebase false  # merge\n",
    "git config pull.rebase true   # rebase\n",
    "git config pull.ff only       # fast-forward only"
   ]
  },
  {
   "cell_type": "code",
   "execution_count": 2,
   "id": "75ff02aa-a295-437c-8ae1-fcd662e8ee56",
   "metadata": {},
   "outputs": [
    {
     "ename": "LoadError",
     "evalue": "UndefVarError: `git` not defined in `Main`\nSuggestion: check for spelling errors or missing imports.",
     "output_type": "error",
     "traceback": [
      "UndefVarError: `git` not defined in `Main`\nSuggestion: check for spelling errors or missing imports.",
      ""
     ]
    }
   ],
   "source": [
    "git checkout main\n",
    "git pull origin main\n",
    "git push origin main\n",
    "\n"
   ]
  },
  {
   "cell_type": "code",
   "execution_count": 3,
   "id": "d74fe5bd-d054-4d63-893c-5bfef3ac1ed2",
   "metadata": {},
   "outputs": [
    {
     "ename": "LoadError",
     "evalue": "ParseError:\n\u001b[90m# Error @ \u001b[0;0m\u001b]8;;file:///workspaces/phys2200-lectures-aav21006/In[3]#1:3\u001b\\\u001b[90mIn[3]:1:3\u001b[0;0m\u001b]8;;\u001b\\\ncd\u001b[48;2;120;70;70m path\\to\\phys2200-lectures-aav21006\u001b[0;0m\n\u001b[90m# └─────────────────────────────────┘ ── \u001b[0;0m\u001b[91mextra tokens after end of expression\u001b[0;0m",
     "output_type": "error",
     "traceback": [
      "ParseError:\n\u001b[90m# Error @ \u001b[0;0m\u001b]8;;file:///workspaces/phys2200-lectures-aav21006/In[3]#1:3\u001b\\\u001b[90mIn[3]:1:3\u001b[0;0m\u001b]8;;\u001b\\\ncd\u001b[48;2;120;70;70m path\\to\\phys2200-lectures-aav21006\u001b[0;0m\n\u001b[90m# └─────────────────────────────────┘ ── \u001b[0;0m\u001b[91mextra tokens after end of expression\u001b[0;0m",
      "",
      "Stacktrace:",
      " [1] top-level scope",
      "\u001b[90m   @\u001b[39m \u001b[90m\u001b[4mIn[3]:1\u001b[24m\u001b[39m"
     ]
    }
   ],
   "source": [
    "cd path\\to\\phys2200-lectures-aav21006\n",
    "git checkout main\n",
    "git pull origin main\n",
    "git push origin main\n",
    "\n"
   ]
  },
  {
   "cell_type": "code",
   "execution_count": 4,
   "id": "0688b3a2-e59c-4c94-8b48-ec9e57fc2d75",
   "metadata": {},
   "outputs": [
    {
     "ename": "LoadError",
     "evalue": "ParseError:\n\u001b[90m# Error @ \u001b[0;0m\u001b]8;;file:///workspaces/phys2200-lectures-aav21006/In[4]#1:5\u001b\\\u001b[90mIn[4]:1:5\u001b[0;0m\u001b]8;;\u001b\\\n;git\u001b[48;2;120;70;70m status\u001b[0;0m\n\u001b[90m#   └─────┘ ── \u001b[0;0m\u001b[91mextra tokens after end of expression\u001b[0;0m",
     "output_type": "error",
     "traceback": [
      "ParseError:\n\u001b[90m# Error @ \u001b[0;0m\u001b]8;;file:///workspaces/phys2200-lectures-aav21006/In[4]#1:5\u001b\\\u001b[90mIn[4]:1:5\u001b[0;0m\u001b]8;;\u001b\\\n;git\u001b[48;2;120;70;70m status\u001b[0;0m\n\u001b[90m#   └─────┘ ── \u001b[0;0m\u001b[91mextra tokens after end of expression\u001b[0;0m",
      "",
      "Stacktrace:",
      " [1] top-level scope",
      "\u001b[90m   @\u001b[39m \u001b[90m\u001b[4mIn[4]:1\u001b[24m\u001b[39m"
     ]
    }
   ],
   "source": [
    ";git status\n",
    ";git pull origin main\n",
    ";git push origin main\n",
    "\n"
   ]
  },
  {
   "cell_type": "code",
   "execution_count": 5,
   "id": "324afaf8-7458-42b2-b31b-ca7ab5184b78",
   "metadata": {},
   "outputs": [
    {
     "ename": "LoadError",
     "evalue": "UndefVarError: `git` not defined in `Main`\nSuggestion: check for spelling errors or missing imports.",
     "output_type": "error",
     "traceback": [
      "UndefVarError: `git` not defined in `Main`\nSuggestion: check for spelling errors or missing imports.",
      "",
      "Stacktrace:",
      " [1] top-level scope",
      "\u001b[90m   @\u001b[39m \u001b[90m\u001b[4mIn[5]:1\u001b[24m\u001b[39m"
     ]
    }
   ],
   "source": [
    "!git checkout main\n",
    "!git pull origin main\n",
    "!git push origin main\n",
    "\n"
   ]
  },
  {
   "cell_type": "code",
   "execution_count": 6,
   "id": "c7d57303-d636-4ae2-8dfa-356ab492c0be",
   "metadata": {},
   "outputs": [
    {
     "name": "stdout",
     "output_type": "stream",
     "text": [
      "On branch main\n",
      "Your branch and 'origin/main' have diverged,\n",
      "and have 3 and 4 different commits each, respectively.\n",
      "  (use \"git pull\" if you want to integrate the remote branch with yours)\n",
      "\n",
      "Changes not staged for commit:\n",
      "  (use \"git add <file>...\" to update what will be committed)\n",
      "  (use \"git restore <file>...\" to discard changes in working directory)\n",
      "\tmodified:   Untitled1.ipynb\n",
      "\n",
      "no changes added to commit (use \"git add\" and/or \"git commit -a\")\n"
     ]
    }
   ],
   "source": [
    ";git status\n"
   ]
  },
  {
   "cell_type": "code",
   "execution_count": null,
   "id": "cedb03bd-8328-4ce7-a294-b46f13cfbc6c",
   "metadata": {},
   "outputs": [],
   "source": []
  }
 ],
 "metadata": {
  "kernelspec": {
   "display_name": "Julia 1.11.6",
   "language": "julia",
   "name": "julia-1.11"
  },
  "language_info": {
   "file_extension": ".jl",
   "mimetype": "application/julia",
   "name": "julia",
   "version": "1.11.6"
  }
 },
 "nbformat": 4,
 "nbformat_minor": 5
}
