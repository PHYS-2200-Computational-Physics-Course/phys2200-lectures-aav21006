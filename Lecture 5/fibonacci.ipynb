{
 "cells": [
  {
   "cell_type": "markdown",
   "id": "552c0f62-f482-4262-8860-32dfc4dcd60c",
   "metadata": {},
   "source": [
    "# Fibonacci numbers"
   ]
  },
  {
   "cell_type": "markdown",
   "id": "2dd0ca2e-e59a-4deb-a033-433656546fa1",
   "metadata": {},
   "source": [
    "\n",
    "In mathematics, the _Fibonacci sequence_ is a sequence in which each element is the sum of the two elements that precede it. \n",
    "Numbers that are part of the Fibonacci sequence are known as **Fibonacci numbers**, commonly denoted $F_n$ "
   ]
  },
  {
   "cell_type": "markdown",
   "id": "76d1f24a-cfd8-4377-9a6b-996bab91872d",
   "metadata": {},
   "source": [
    "\n",
    "The Fibonacci numbers may be defined by the *recurrence relation*\n",
    "$F_1 = 1$, $F_2 = 1$, and $F_{n} = F_{n-1} + F_{n-2}$ for $n > 2$."
   ]
  },
  {
   "cell_type": "code",
   "execution_count": 17,
   "id": "3818ad2b-0ed6-46da-a618-93fbe9fe34c2",
   "metadata": {
    "editable": true,
    "slideshow": {
     "slide_type": ""
    },
    "tags": []
   },
   "outputs": [
    {
     "data": {
      "text/plain": [
       "myfib (generic function with 1 method)"
      ]
     },
     "execution_count": 17,
     "metadata": {},
     "output_type": "execute_result"
    }
   ],
   "source": [
    "\n",
    "\"\"\"\n",
    "    myfib(n)\n",
    "\n",
    "Calculate Fibonacci number F_n using the recurrence relation\"\"\"\n",
    "# F_1 = 1, F_2 = 1, and F_n = F_n-1 + F_n-2 for n > 2.\n",
    "\n",
    "function myfib(n)\n",
    "    fp = 1\n",
    "    if n == 1\n",
    "        return fp\n",
    "    end\n",
    "\n",
    "    fc = 1\n",
    "    if n == 2\n",
    "        return fc\n",
    "    end\n",
    "\n",
    "    for i = 3:n # to get the third fibonacci number\n",
    "        fc, fp = fc + fp, fc\n",
    "        #fn = fc + fp \n",
    "        #fp = fc\n",
    "        #fc = fn\n",
    "    end\n",
    "\n",
    "    return fc\n",
    "end"
   ]
  },
  {
   "cell_type": "code",
   "execution_count": 3,
   "id": "2f25f061-5178-42a0-8bba-f5696e273e8b",
   "metadata": {},
   "outputs": [
    {
     "name": "stdout",
     "output_type": "stream",
     "text": [
      "search: \u001b[0m\u001b[1mm\u001b[22m\u001b[0m\u001b[1my\u001b[22m\u001b[0m\u001b[1mf\u001b[22m\u001b[0m\u001b[1mi\u001b[22m\u001b[0m\u001b[1mb\u001b[22m\n",
      "\n"
     ]
    },
    {
     "data": {
      "text/latex": [
       "No documentation found for private symbol.\n",
       "\n",
       "\\texttt{myfib} is a \\texttt{Function}.\n",
       "\n",
       "\\begin{verbatim}\n",
       "# 1 method for generic function \"myfib\" from Main:\n",
       " [1] myfib(n)\n",
       "     @ In[1]:8\n",
       "\\end{verbatim}\n"
      ],
      "text/markdown": [
       "No documentation found for private symbol.\n",
       "\n",
       "`myfib` is a `Function`.\n",
       "\n",
       "```\n",
       "# 1 method for generic function \"myfib\" from Main:\n",
       " [1] myfib(n)\n",
       "     @ In[1]:8\n",
       "```\n"
      ],
      "text/plain": [
       "  No documentation found for private symbol.\n",
       "\n",
       "  \u001b[36mmyfib\u001b[39m is a \u001b[36mFunction\u001b[39m.\n",
       "\n",
       "\u001b[36m  # 1 method for generic function \"myfib\" from Main:\u001b[39m\n",
       "\u001b[36m   [1] myfib(n)\u001b[39m\n",
       "\u001b[36m       @ In[1]:8\u001b[39m"
      ]
     },
     "execution_count": 3,
     "metadata": {},
     "output_type": "execute_result"
    }
   ],
   "source": [
    "\n",
    "?myfib"
   ]
  },
  {
   "cell_type": "code",
   "execution_count": 4,
   "id": "d4418a61-0f38-4312-a896-fb92ff902c3a",
   "metadata": {},
   "outputs": [
    {
     "data": {
      "text/plain": [
       "1"
      ]
     },
     "execution_count": 4,
     "metadata": {},
     "output_type": "execute_result"
    }
   ],
   "source": [
    "myfib(2)"
   ]
  },
  {
   "cell_type": "code",
   "execution_count": 5,
   "id": "c4e8f00a-79ed-4dc3-809d-d7fa356a4b09",
   "metadata": {},
   "outputs": [
    {
     "data": {
      "text/plain": [
       "1"
      ]
     },
     "execution_count": 5,
     "metadata": {},
     "output_type": "execute_result"
    }
   ],
   "source": [
    "myfib(2)"
   ]
  },
  {
   "cell_type": "code",
   "execution_count": 6,
   "id": "d077eab3-f661-44ea-8405-5fb64aabaa6f",
   "metadata": {},
   "outputs": [
    {
     "data": {
      "text/plain": [
       "2"
      ]
     },
     "execution_count": 6,
     "metadata": {},
     "output_type": "execute_result"
    }
   ],
   "source": [
    "myfib(3)"
   ]
  },
  {
   "cell_type": "code",
   "execution_count": 7,
   "id": "9b9ffd8f-dc02-43cb-9d33-b550f24112d8",
   "metadata": {},
   "outputs": [
    {
     "data": {
      "text/plain": [
       "3"
      ]
     },
     "execution_count": 7,
     "metadata": {},
     "output_type": "execute_result"
    }
   ],
   "source": [
    "myfib(4)"
   ]
  },
  {
   "cell_type": "code",
   "execution_count": 8,
   "id": "5c4b0f5f-dd62-47a0-859f-5e73f7c4af8c",
   "metadata": {},
   "outputs": [
    {
     "data": {
      "text/plain": [
       "5"
      ]
     },
     "execution_count": 8,
     "metadata": {},
     "output_type": "execute_result"
    }
   ],
   "source": [
    "myfib(5)"
   ]
  },
  {
   "cell_type": "code",
   "execution_count": 9,
   "id": "e50842e1-5fc1-4f5c-9bdf-f00aa6c139b9",
   "metadata": {},
   "outputs": [
    {
     "data": {
      "text/plain": [
       "8"
      ]
     },
     "execution_count": 9,
     "metadata": {},
     "output_type": "execute_result"
    }
   ],
   "source": [
    "myfib(6)"
   ]
  },
  {
   "cell_type": "code",
   "execution_count": 10,
   "id": "6f8e8ed5-09ef-4e61-9534-f9ef1141338a",
   "metadata": {},
   "outputs": [
    {
     "data": {
      "text/plain": [
       "10-element Vector{Int64}:\n",
       "  1\n",
       "  1\n",
       "  2\n",
       "  3\n",
       "  5\n",
       "  8\n",
       " 13\n",
       " 21\n",
       " 34\n",
       " 55"
      ]
     },
     "execution_count": 10,
     "metadata": {},
     "output_type": "execute_result"
    }
   ],
   "source": [
    "\n",
    "myfib.(1:10)"
   ]
  },
  {
   "cell_type": "markdown",
   "id": "284e2246-b9b0-4709-a877-004efd0d751c",
   "metadata": {},
   "source": [
    "\n",
    "A *recursive function* is a programming technique where a function calls itself to solve a problem, breaking it down into simpler, smaller instances of the same problem. \n",
    "It requires a base case, which is a condition that stops the function from calling itself indefinitely, and a recursive step, where the function calls itself with modified \n",
    "input to move closer to the base case. "
   ]
  },
  {
   "cell_type": "code",
   "execution_count": 11,
   "id": "eb6ca272-6628-4caf-8499-5bda294d8b28",
   "metadata": {},
   "outputs": [
    {
     "data": {
      "text/plain": [
       "myfib_recursive"
      ]
     },
     "execution_count": 11,
     "metadata": {},
     "output_type": "execute_result"
    }
   ],
   "source": [
    "\n",
    "\"\"\"\n",
    "    myfib_recursive(n)\n",
    "\n",
    "Calculate Fibonacci number F_n using the _recurrence relation_\n",
    "F_1 = 1, F_2 = 1, and F_n = F_n-1 + F_n-2 for n > 2, \n",
    "and recursive function calls. \n",
    "\"\"\"\n",
    "function myfib_recursive(n)\n",
    "\n",
    "    # Base case\n",
    "    if n == 1\n",
    "        return 1\n",
    "    elseif n == 2\n",
    "        return 1\n",
    "    end\n",
    "\n",
    "    # Recursive step\n",
    "    return myfib_recursive(n-1) + myfib_recursive(n-2)\n",
    "end"
   ]
  },
  {
   "cell_type": "code",
   "execution_count": 12,
   "id": "af60f5a6-b4c4-47a0-90c7-145681b188d1",
   "metadata": {},
   "outputs": [
    {
     "data": {
      "text/plain": [
       "9-element Vector{Int64}:\n",
       "  1\n",
       "  1\n",
       "  2\n",
       "  3\n",
       "  5\n",
       "  8\n",
       " 13\n",
       " 21\n",
       " 34"
      ]
     },
     "execution_count": 12,
     "metadata": {},
     "output_type": "execute_result"
    }
   ],
   "source": [
    "\n",
    "myfib_recursive.(1:9)"
   ]
  },
  {
   "cell_type": "markdown",
   "id": "d563be2b-fdc4-4d6a-a65a-db80ec1916a4",
   "metadata": {},
   "source": [
    "### Performance"
   ]
  },
  {
   "cell_type": "code",
   "execution_count": 13,
   "id": "851b5c85-0210-4946-9ae9-080a06bbb0cb",
   "metadata": {},
   "outputs": [
    {
     "name": "stdout",
     "output_type": "stream",
     "text": [
      "  0.000000 seconds\n"
     ]
    },
    {
     "data": {
      "text/plain": [
       "12586269025"
      ]
     },
     "execution_count": 13,
     "metadata": {},
     "output_type": "execute_result"
    }
   ],
   "source": [
    "\n",
    "@time myfib(50)"
   ]
  },
  {
   "cell_type": "code",
   "execution_count": 14,
   "id": "138175a2-a589-49f0-8bcd-5eefe788f6d7",
   "metadata": {},
   "outputs": [
    {
     "name": "stdout",
     "output_type": "stream",
     "text": [
      "  0.000000 seconds\n"
     ]
    },
    {
     "data": {
      "text/plain": [
       "12586269025"
      ]
     },
     "execution_count": 14,
     "metadata": {},
     "output_type": "execute_result"
    }
   ],
   "source": [
    "@time myfib(50)"
   ]
  },
  {
   "cell_type": "code",
   "execution_count": 15,
   "id": "432614d7-c919-4844-97da-8e0781c06a50",
   "metadata": {},
   "outputs": [
    {
     "name": "stdout",
     "output_type": "stream",
     "text": [
      " 47.136413 seconds\n"
     ]
    },
    {
     "data": {
      "text/plain": [
       "12586269025"
      ]
     },
     "execution_count": 15,
     "metadata": {},
     "output_type": "execute_result"
    }
   ],
   "source": [
    "\n",
    "@time myfib_recursive(50)"
   ]
  },
  {
   "cell_type": "markdown",
   "id": "6954104b-a8b3-415b-be0a-9b55561f25d3",
   "metadata": {},
   "source": [
    "### Testing"
   ]
  },
  {
   "cell_type": "markdown",
   "id": "d8e2fc9b-05d1-46c8-a08d-be269f486b50",
   "metadata": {},
   "source": [
    "Let's use the identity $\\sum_{i=1}^n F_i^2 = F_n F_{n+1}$ to test `myfib`."
   ]
  },
  {
   "cell_type": "code",
   "execution_count": 16,
   "id": "82689315-6f47-40d3-884b-c082383955d8",
   "metadata": {},
   "outputs": [
    {
     "name": "stdout",
     "output_type": "stream",
     "text": [
      "s == myfib(n) * myfib(n + 1) = true\n",
      "s == myfib(n) * myfib(n + 1) = true\n",
      "s == myfib(n) * myfib(n + 1) = true\n"
     ]
    }
   ],
   "source": [
    "\n",
    "for n = (10, 15, 20)\n",
    "    s = 0\n",
    "    for i = 1:n\n",
    "        s += (myfib(i))^2\n",
    "    end\n",
    "    @show s == myfib(n) * myfib(n+1)\n",
    "end"
   ]
  },
  {
   "cell_type": "code",
   "execution_count": null,
   "id": "c7520625-3982-4887-bdd0-a678499f2744",
   "metadata": {},
   "outputs": [],
   "source": []
  },
  {
   "cell_type": "code",
   "execution_count": null,
   "id": "f55ab2e7-801d-4622-8e4b-bdf13d081f9f",
   "metadata": {},
   "outputs": [],
   "source": []
  },
  {
   "cell_type": "code",
   "execution_count": null,
   "id": "d337ad49-9bc6-4207-a8c2-a3d789ad9aba",
   "metadata": {},
   "outputs": [],
   "source": []
  }
 ],
 "metadata": {
  "kernelspec": {
   "display_name": "Julia 1.11.6",
   "language": "julia",
   "name": "julia-1.11"
  },
  "language_info": {
   "file_extension": ".jl",
   "mimetype": "application/julia",
   "name": "julia",
   "version": "1.11.6"
  }
 },
 "nbformat": 4,
 "nbformat_minor": 5
}
