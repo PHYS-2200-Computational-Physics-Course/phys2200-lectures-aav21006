{
 "cells": [
  {
   "cell_type": "code",
   "execution_count": 10,
   "id": "9b664e85-9cf5-4970-ae18-a0e995c842e0",
   "metadata": {},
   "outputs": [
    {
     "data": {
      "text/plain": [
       "mybasel"
      ]
     },
     "execution_count": 10,
     "metadata": {},
     "output_type": "execute_result"
    }
   ],
   "source": [
    "\"\"\"\n",
    " s = mybasel(N)\n",
    "Calculate finite basel sum \n",
    "\"\"\"\n",
    "function mybasel(N)\n",
    "    s = 0.0\n",
    "    for n = 1:N\n",
    "        s += 1/n^2\n",
    "    end\n",
    "    return s\n",
    "end"
   ]
  },
  {
   "cell_type": "code",
   "execution_count": 12,
   "id": "d609c9a5-d8a4-4c72-9bf7-ea1ed9cb9e42",
   "metadata": {},
   "outputs": [
    {
     "data": {
      "text/plain": [
       "0.0005"
      ]
     },
     "execution_count": 12,
     "metadata": {},
     "output_type": "execute_result"
    }
   ],
   "source": [
    "round(abs(mybasel(2000) - pi^2/6), sigdigits=1)"
   ]
  },
  {
   "cell_type": "code",
   "execution_count": 14,
   "id": "8bbcefe4-4e30-4988-92a6-07b4414d569c",
   "metadata": {},
   "outputs": [
    {
     "data": {
      "text/plain": [
       "myrichardson (generic function with 1 method)"
      ]
     },
     "execution_count": 14,
     "metadata": {},
     "output_type": "execute_result"
    }
   ],
   "source": [
    "\n",
    "function myrichardson(N)\n",
    "    s1 = mybasel(N)\n",
    "    s2 = mybasel(2*N)\n",
    "    return 2*s2 - s1\n",
    "    \n",
    "end"
   ]
  },
  {
   "cell_type": "code",
   "execution_count": 17,
   "id": "3b9109ab-2750-44bf-9207-33509888b878",
   "metadata": {},
   "outputs": [
    {
     "data": {
      "text/plain": [
       "2.0e-7"
      ]
     },
     "execution_count": 17,
     "metadata": {},
     "output_type": "execute_result"
    }
   ],
   "source": [
    "\n",
    "round(abs(myrichardson(1000) - pi^2/6), sigdigits = 1)"
   ]
  },
  {
   "cell_type": "code",
   "execution_count": 23,
   "id": "88418c1d-3765-4bfa-b7a5-9cf85ec69456",
   "metadata": {},
   "outputs": [
    {
     "data": {
      "text/plain": [
       "2.0e-7"
      ]
     },
     "execution_count": 23,
     "metadata": {},
     "output_type": "execute_result"
    }
   ],
   "source": [
    "\n",
    "round(abs(mybasel(5000000) - pi^2/6), sigdigits = 1)"
   ]
  },
  {
   "cell_type": "code",
   "execution_count": 31,
   "id": "c4f37973-9bae-4da2-bed5-ecc5f62ec9db",
   "metadata": {},
   "outputs": [
    {
     "name": "stderr",
     "output_type": "stream",
     "text": [
      "\u001b[32m\u001b[1m   Resolving\u001b[22m\u001b[39m package versions...\n",
      "\u001b[32m\u001b[1m  No Changes\u001b[22m\u001b[39m to `/workspaces/phys2200-lectures-aav21006/Project.toml`\n",
      "\u001b[32m\u001b[1m  No Changes\u001b[22m\u001b[39m to `/workspaces/phys2200-lectures-aav21006/Manifest.toml`\n"
     ]
    }
   ],
   "source": [
    "] add QuadGK # the ] means switching the package"
   ]
  },
  {
   "cell_type": "code",
   "execution_count": 32,
   "id": "bce274f6-bc8c-4f8d-9b0c-9a69c4be405f",
   "metadata": {},
   "outputs": [],
   "source": [
    "using QuadGK"
   ]
  },
  {
   "cell_type": "code",
   "execution_count": 33,
   "id": "39b7c626-1ce6-493c-a067-6bb33392d0fb",
   "metadata": {},
   "outputs": [
    {
     "data": {
      "text/plain": [
       "fun1 (generic function with 1 method)"
      ]
     },
     "execution_count": 33,
     "metadata": {},
     "output_type": "execute_result"
    }
   ],
   "source": [
    "fun1(x) = 1/sqrt(x)"
   ]
  },
  {
   "cell_type": "code",
   "execution_count": 36,
   "id": "f4f4cf97-3650-4b24-9405-21c6880e6f93",
   "metadata": {},
   "outputs": [
    {
     "data": {
      "text/plain": [
       "2.0"
      ]
     },
     "execution_count": 36,
     "metadata": {},
     "output_type": "execute_result"
    }
   ],
   "source": [
    "\n",
    "round(quadgk(fun1, 0, 1)[1], sigdigits=5)"
   ]
  },
  {
   "cell_type": "code",
   "execution_count": 37,
   "id": "c744a3fd-5ad3-40ce-a756-4287c5fefb9b",
   "metadata": {},
   "outputs": [
    {
     "data": {
      "text/plain": [
       "fun2 (generic function with 1 method)"
      ]
     },
     "execution_count": 37,
     "metadata": {},
     "output_type": "execute_result"
    }
   ],
   "source": [
    "fun2(x) = exp(-x) * log(x)"
   ]
  },
  {
   "cell_type": "code",
   "execution_count": 38,
   "id": "c4009955-6b88-4ac1-8e73-f21ad404efd4",
   "metadata": {},
   "outputs": [
    {
     "data": {
      "text/plain": [
       "(-0.5772156640944036, 4.619449696675028e-9)"
      ]
     },
     "execution_count": 38,
     "metadata": {},
     "output_type": "execute_result"
    }
   ],
   "source": [
    "quadgk(fun2, 0, Inf)"
   ]
  },
  {
   "cell_type": "code",
   "execution_count": null,
   "id": "40ffdc4c-84a5-47f0-8816-b597558a4145",
   "metadata": {},
   "outputs": [],
   "source": []
  }
 ],
 "metadata": {
  "kernelspec": {
   "display_name": "Julia 1.11.6",
   "language": "julia",
   "name": "julia-1.11"
  },
  "language_info": {
   "file_extension": ".jl",
   "mimetype": "application/julia",
   "name": "julia",
   "version": "1.11.6"
  }
 },
 "nbformat": 4,
 "nbformat_minor": 5
}
