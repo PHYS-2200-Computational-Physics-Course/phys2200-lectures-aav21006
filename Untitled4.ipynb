{
 "cells": [
  {
   "cell_type": "code",
   "execution_count": 1,
   "id": "e8d3a0ba-9f9b-4e16-b230-94de5df7f797",
   "metadata": {},
   "outputs": [
    {
     "ename": "LoadError",
     "evalue": "UndefVarError: `git` not defined in `Main`\nSuggestion: check for spelling errors or missing imports.",
     "output_type": "error",
     "traceback": [
      "UndefVarError: `git` not defined in `Main`\nSuggestion: check for spelling errors or missing imports.",
      ""
     ]
    }
   ],
   "source": [
    "git config pull.rebase false  # merge"
   ]
  },
  {
   "cell_type": "code",
   "execution_count": 3,
   "id": "ecc45e25-0c62-45a3-a284-95353beb5bb0",
   "metadata": {},
   "outputs": [
    {
     "ename": "LoadError",
     "evalue": "UndefVarError: `git` not defined in `Main`\nSuggestion: check for spelling errors or missing imports.",
     "output_type": "error",
     "traceback": [
      "UndefVarError: `git` not defined in `Main`\nSuggestion: check for spelling errors or missing imports.",
      ""
     ]
    }
   ],
   "source": [
    "git config pull.rebase false  # merge\n",
    "git config pull.rebase true   # rebase\n",
    "git config pull.ff only       # fast-forward onl"
   ]
  },
  {
   "cell_type": "code",
   "execution_count": 4,
   "id": "65062b3d-b108-4c05-b0da-4afe3edf395f",
   "metadata": {},
   "outputs": [
    {
     "ename": "LoadError",
     "evalue": "UndefVarError: `git` not defined in `Main`\nSuggestion: check for spelling errors or missing imports.",
     "output_type": "error",
     "traceback": [
      "UndefVarError: `git` not defined in `Main`\nSuggestion: check for spelling errors or missing imports.",
      ""
     ]
    }
   ],
   "source": [
    "git status                     # see what’s changed\n",
    "git add Untitled1.ipynb        # stage your notebook\n",
    "git commit -m \"Update notebook\" # commit changes\n",
    "git pull origin main           # merge remote changes\n",
    "git push origin main           # push your commits to GitHub\n"
   ]
  },
  {
   "cell_type": "code",
   "execution_count": 5,
   "id": "0959ed3f-1528-4fd8-83d0-6c7ddffd5dbb",
   "metadata": {},
   "outputs": [
    {
     "ename": "LoadError",
     "evalue": "UndefVarError: `workspaces` not defined in `Main`\nSuggestion: check for spelling errors or missing imports.",
     "output_type": "error",
     "traceback": [
      "UndefVarError: `workspaces` not defined in `Main`\nSuggestion: check for spelling errors or missing imports.",
      "",
      "Stacktrace:",
      " [1] top-level scope",
      "\u001b[90m   @\u001b[39m \u001b[90m\u001b[4mIn[5]:1\u001b[24m\u001b[39m"
     ]
    }
   ],
   "source": [
    "cd /workspaces/phys2200-lectures-aav21006\n"
   ]
  },
  {
   "cell_type": "code",
   "execution_count": null,
   "id": "2bef3e65-4c1e-40e6-a768-755404de64e0",
   "metadata": {},
   "outputs": [],
   "source": []
  }
 ],
 "metadata": {
  "kernelspec": {
   "display_name": "Julia 1.11.6",
   "language": "julia",
   "name": "julia-1.11"
  },
  "language_info": {
   "file_extension": ".jl",
   "mimetype": "application/julia",
   "name": "julia",
   "version": "1.11.6"
  }
 },
 "nbformat": 4,
 "nbformat_minor": 5
}
