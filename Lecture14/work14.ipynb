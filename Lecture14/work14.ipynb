{
 "cells": [
  {
   "cell_type": "markdown",
   "id": "3907a1f4-2742-46e2-96bd-0298cbde6d3e",
   "metadata": {},
   "source": [
    "\n",
    "# Double Pendulum "
   ]
  },
  {
   "cell_type": "code",
   "execution_count": null,
   "id": "155948fc-fbfa-4b2a-a384-c63effc1e0ad",
   "metadata": {},
   "outputs": [],
   "source": [
    "\n",
    "# ] add OrdinaryDiffEqTsit5 commented out bc we added them then no longer needed the function "
   ]
  },
  {
   "cell_type": "code",
   "execution_count": null,
   "id": "3cfae87b-b3af-431f-9ddf-30159984632d",
   "metadata": {},
   "outputs": [],
   "source": [
    "# ] add Printf"
   ]
  },
  {
   "cell_type": "code",
   "execution_count": null,
   "id": "344feb7a-c1e5-46d9-9282-e1153077258a",
   "metadata": {},
   "outputs": [],
   "source": [
    "# ] add Colors"
   ]
  },
  {
   "cell_type": "code",
   "execution_count": null,
   "id": "b24f2d7c-a6a0-4033-a84b-897f573f4b29",
   "metadata": {},
   "outputs": [],
   "source": [
    "using PyPlot\n",
    "using OrdinaryDiffEqTsit5\n",
    "using Printf\n",
    "using Colors"
   ]
  },
  {
   "cell_type": "code",
   "execution_count": null,
   "id": "900d7b03-0814-46be-b48b-e892a6b7101d",
   "metadata": {},
   "outputs": [],
   "source": [
    "\"\"\"\n",
    "\n",
    "doublependulum!(dudt, u, p, t)\n",
    "\n",
    "--------------\n",
    "\"\"\"\n",
    "function doublependulum!(dudt, u, p, t)\n",
    "    # unpack variables and parameters\n",
    "    theta1 = u[1]\n",
    "    theta2 = u[2]\n",
    "    dtheta1dt = u[3]\n",
    "    dtheta2dt = u[4]\n",
    "    κ, ν = p\n",
    "    \n",
    "    sn, cs = sincos(theta1 - theta2)\n",
    "    a1 = κ*cs\n",
    "    a2 = ν*cs\n",
    "    γ = 1/(1.0 - a1*a2)\n",
    "    \n",
    "    f1 = -κ*sn*dtheta2dt^2 - sin(theta1)\n",
    "    f2 =  ν*(sn*dtheta1dt^2 - ν*sin(theta2))\n",
    "\n",
    "    dudt[1] = u[3]\n",
    "    dudt[2] = u[4]\n",
    "    dudt[3] = γ*(f1 - a1*f2)\n",
    "    dudt[4] = γ*(f2 - a2*f1)\n",
    "    \n",
    "    return nothing\n",
    "end"
   ]
  },
  {
   "cell_type": "code",
   "execution_count": null,
   "id": "49116e9f-5066-4dcb-81f3-948dbbf2af1d",
   "metadata": {},
   "outputs": [],
   "source": [
    "\n",
    "l1 = 1.0  # length of pendulum1\n",
    "l2 = 1.0  # length of pendulum2\n",
    "m1 = 1.0  # mass of pendulum1\n",
    "m2 = 1.0; # mass of pendulum2"
   ]
  },
  {
   "cell_type": "code",
   "execution_count": null,
   "id": "3a4cfb89-5e70-44c1-a3e1-66a33a28f46c",
   "metadata": {},
   "outputs": [],
   "source": [
    "\n",
    "ν = l1/l2\n",
    "κ = 1 / ν * m2 / (m1 + m2)\n",
    "# Pack the parameters\n",
    "p = (κ, ν);"
   ]
  },
  {
   "cell_type": "code",
   "execution_count": null,
   "id": "9a78fb80-3e62-41dc-8ddc-f3435f4bae11",
   "metadata": {},
   "outputs": [],
   "source": [
    "\n",
    "tspan = (0.0, 50.0)\n",
    "initial = [pi, pi/100, 0.0, 0.0];"
   ]
  },
  {
   "cell_type": "code",
   "execution_count": null,
   "id": "c43432f4-6a7c-4777-a4a8-ff520f9c93fb",
   "metadata": {},
   "outputs": [],
   "source": [
    "\n",
    "prob = ODEProblem(doublependulum!, initial, tspan, p)"
   ]
  },
  {
   "cell_type": "code",
   "execution_count": null,
   "id": "a32964dd-5299-4f45-ae46-f2baad1cc949",
   "metadata": {},
   "outputs": [],
   "source": [
    "\n",
    "sol = solve(prob, Tsit5(), abstol=1e-7, reltol=1e-7);"
   ]
  },
  {
   "cell_type": "code",
   "execution_count": null,
   "id": "89aac277-e037-494a-8d89-f9927a9d26ef",
   "metadata": {},
   "outputs": [],
   "source": [
    "\n",
    "np = 2001\n",
    "t = range(tspan[1], tspan[2], np)\n",
    "sl = sol(t);"
   ]
  },
  {
   "cell_type": "code",
   "execution_count": null,
   "id": "f2e199e8-1b11-434b-a897-1bf1831c571e",
   "metadata": {},
   "outputs": [],
   "source": [
    "\n",
    "theta1 = sl[1, :]\n",
    "theta2 = sl[2, :];"
   ]
  },
  {
   "cell_type": "code",
   "execution_count": null,
   "id": "a8d7c194-025b-4eaa-b872-b64362f5fa2d",
   "metadata": {},
   "outputs": [],
   "source": [
    "\n",
    "x1 =  l1 .* sin.(theta1)\n",
    "y1 = -l1 .* cos.(theta1)\n",
    "x2 = x1 .+ l2 .* sin.(theta2)\n",
    "y2 = y1 .- l2 .* cos.(theta2);"
   ]
  },
  {
   "cell_type": "code",
   "execution_count": null,
   "id": "8c1f32e0-4316-4841-aac1-2a5552c05ce0",
   "metadata": {},
   "outputs": [],
   "source": [
    "\"\"\"\n",
    "    snapshot_ft(nt, pts_disp, xl, xr, yb, yt, t, x1, y1, x2, y2)\n",
    "\n",
    "Display the current positions (x1[nt], y1[nt]) and (x2[nt], y2(nt]), and \n",
    "the trajectories' fading tails - the most recent pts_disp points\n",
    "\"\"\"\n",
    "function snapshot_ft(nt, pts_disp, box, t, x1, y1, x2, y2)\n",
    "    nt_start = max(1, nt-pts_disp)\n",
    "    xl, xr, yb, yt = box\n",
    "    axis(\"square\")\n",
    "    xlim(xl, xr)\n",
    "    ylim(yb, yt)\n",
    "    titl = @sprintf(\"Double pendulum t = %5.2f .. %5.2f\",\n",
    "                    t[nt_start], t[nt])\n",
    "    title(titl, family=\"monospace\")\n",
    "    xlabel(L\"$x$\")\n",
    "    ylabel(L\"$y$\")\n",
    "    grid(true)\n",
    "\n",
    "    # pivot\n",
    "    plot(0.0, 0.0, color=\"black\", marker=\"x\", markersize=5.0)\n",
    "\n",
    "    # two rods\n",
    "    plot([0.0, x1[nt],x2[nt]], [0.0, y1[nt], y2[nt]], color=\"black\")\n",
    "\n",
    "    # mass 1\n",
    "    c1 = \"green\"\n",
    "    plot(x1[nt], y1[nt], color=c1, marker=\"o\", markersize=5.0)\n",
    "    \n",
    "    # mass 2\n",
    "    c2 = \"blue\"\n",
    "    plot(x2[nt], y2[nt], color=c2, marker=\"o\", markersize=5.0)\n",
    "\n",
    "    # fading tail trajectory of mass 2\n",
    "    c2p = parse(RGBA, c2)\n",
    "    for i = nt_start:nt-1\n",
    "        transp = 1.0 - ((nt-i-1)/(pts_disp-1))^2\n",
    "        cc = (c2p.r, c2p.g, c2p.b, transp)\n",
    "        plot([x2[i], x2[i+1]], [y2[i], y2[i+1]], color=cc, linewidth=0.5)\n",
    "    end\n",
    "    return nothing\n",
    "end;"
   ]
  },
  {
   "cell_type": "code",
   "execution_count": null,
   "id": "3097de45-06bb-4b27-9806-27ba42a830fa",
   "metadata": {},
   "outputs": [],
   "source": [
    "\n",
    "axis_lim = (l1 + l2)*1.2\n",
    "xl = -axis_lim\n",
    "xr = -xl\n",
    "yb = -axis_lim\n",
    "yt = -yb\n",
    "box = (xl, xr, yb, yt);"
   ]
  },
  {
   "cell_type": "code",
   "execution_count": null,
   "id": "cfc6cba2-564f-4396-89f6-7b93a527be11",
   "metadata": {},
   "outputs": [],
   "source": [
    "# Define the length of the trajectory's tail\n",
    "f = 0.1                      # Fraction of displayed points\n",
    "pts_disp = round(Int, f*np)  # Number of displayed points"
   ]
  },
  {
   "cell_type": "code",
   "execution_count": null,
   "id": "086a654a-8fb1-4594-a4fd-b4240ea13a7b",
   "metadata": {},
   "outputs": [],
   "source": [
    "\n",
    "fig = figure()\n",
    "for nt = 1:10:np\n",
    "    snapshot_ft(nt, pts_disp, box, t, x1, y1, x2, y2)\n",
    "    display(fig)\n",
    "    IJulia.clear_output(true)\n",
    "    clf()\n",
    "end"
   ]
  },
  {
   "cell_type": "code",
   "execution_count": 19,
   "id": "a9ecdbdf-49e6-4e76-851a-57e818b39bee",
   "metadata": {},
   "outputs": [
    {
     "data": {
      "text/plain": [
       "linear_regression"
      ]
     },
     "execution_count": 19,
     "metadata": {},
     "output_type": "execute_result"
    }
   ],
   "source": [
    "\"\"\"\n",
    "    alpha, beta, sigma = linear_regression(x, y)\n",
    "\n",
    "Least square fit y = alpha + beta x. sigma is the standard error of beta\n",
    "\"\"\"\n",
    "function linear_regression(x, y) # we need this code for hw6 and the next midterm \n",
    "    np = length(x)\n",
    "    xbar = sum(x)/np\n",
    "    ybar = sum(y)/np # sum is part of julia \n",
    "    x2 = sum((xbar .- x) .^2)\n",
    "    beta = sum((xbar .- x) .* (ybar .- y)) / x2\n",
    "    alpha = ybar - beta * xbar\n",
    "    sigma = sqrt(sum((y .- alpha .- beta .* x) .^ 2)/((np - 2)*x2))\n",
    "    return alpha, beta, sigma\n",
    "end \n"
   ]
  },
  {
   "cell_type": "code",
   "execution_count": 20,
   "id": "5a36ce99-08fd-4a2a-b44e-08893fad1f67",
   "metadata": {},
   "outputs": [],
   "source": [
    "xmin = 0.0\n",
    "xmax = 10.0\n",
    "np = 200\n",
    "sc = 1.5\n",
    "x = range(xmin, xmax, np)\n",
    "y = 2 .* x .+ sc .* randn(np);"
   ]
  },
  {
   "cell_type": "code",
   "execution_count": 21,
   "id": "1dc43fd2-bc3d-4abb-9015-1c82ae5f6c2c",
   "metadata": {},
   "outputs": [
    {
     "data": {
      "text/plain": [
       "(0.24683063982926612, 1.9618642081885482, 0.03839838102423564)"
      ]
     },
     "execution_count": 21,
     "metadata": {},
     "output_type": "execute_result"
    }
   ],
   "source": [
    "alpha1, beta1, sigma1 = linear_regression(x, y)"
   ]
  },
  {
   "cell_type": "code",
   "execution_count": 22,
   "id": "232eb09c-eac3-4894-89d6-32bd76cdce13",
   "metadata": {},
   "outputs": [],
   "source": [
    "\n",
    "using PyPlot"
   ]
  },
  {
   "cell_type": "code",
   "execution_count": 23,
   "id": "cae498c3-6353-48bc-9b46-ba4345c2a73f",
   "metadata": {},
   "outputs": [
    {
     "data": {
      "image/png": "[encoded data removed]",
      "text/plain": [
       "Figure(PyObject <Figure size 640x480 with 1 Axes>)"
      ]
     },
     "metadata": {},
     "output_type": "display_data"
    }
   ],
   "source": [
    "\n",
    "plot(x, y, linestyle=\"none\", marker=\".\", label=\"noisy data\")\n",
    "plot(x, alpha1 .+ beta1 .* x, linestyle=\"solid\", label=\"linear lsq fit\")\n",
    "\n",
    "grid(true)\n",
    "xlabel(\"x\")\n",
    "ylabel(\"y\")\n",
    "title(\"Linear regression\")\n",
    "legend();"
   ]
  },
  {
   "cell_type": "markdown",
   "id": "1c465d0f-860d-4f59-985f-286f80ea5a4e",
   "metadata": {},
   "source": [
    "Bouncing Ball"
   ]
  },
  {
   "cell_type": "code",
   "execution_count": null,
   "id": "c7a83cb1-7bb5-4f02-90b6-e0672cfaa16f",
   "metadata": {},
   "outputs": [],
   "source": []
  }
 ],
 "metadata": {
  "kernelspec": {
   "display_name": "Julia 1.11.6",
   "language": "julia",
   "name": "julia-1.11"
  },
  "language_info": {
   "file_extension": ".jl",
   "mimetype": "application/julia",
   "name": "julia",
   "version": "1.11.6"
  }
 },
 "nbformat": 4,
 "nbformat_minor": 5
}
